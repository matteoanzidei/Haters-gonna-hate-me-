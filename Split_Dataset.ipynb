{
 "cells": [
  {
   "cell_type": "markdown",
   "metadata": {},
   "source": [
    "# Method to spilt the Data-set\n",
    "The method below splits the Data-set of 25000 tweets, in Train.set and Test-set"
   ]
  },
  {
   "cell_type": "code",
   "execution_count": 5,
   "metadata": {},
   "outputs": [],
   "source": [
    "# this loads the first file fully into memory\n",
    "with open('dataset.csv', 'r') as f:\n",
    "    csvfile = f.readlines()\n",
    "\n",
    "linesPerFile = 20236\n",
    "filename = 1\n",
    "# this is better then your former loop, it loops in 1000000 lines a peice,\n",
    "# instead of incrementing 1000000 times and only write on the millionth one\n",
    "for i in range(0,len(csvfile),linesPerFile):\n",
    "    with open(str(filename) + '.csv', 'w+') as f:\n",
    "        if filename > 1: # this is the second or later file, we need to write the\n",
    "            f.write(csvfile[0]) # header again if 2nd.... file\n",
    "        f.writelines(csvfile[i:i+linesPerFile])\n",
    "    filename += 1"
   ]
  }
 ],
 "metadata": {
  "kernelspec": {
   "display_name": "Python 3",
   "language": "python",
   "name": "python3"
  },
  "language_info": {
   "codemirror_mode": {
    "name": "ipython",
    "version": 3
   },
   "file_extension": ".py",
   "mimetype": "text/x-python",
   "name": "python",
   "nbconvert_exporter": "python",
   "pygments_lexer": "ipython3",
   "version": "3.7.3"
  }
 },
 "nbformat": 4,
 "nbformat_minor": 2
}
